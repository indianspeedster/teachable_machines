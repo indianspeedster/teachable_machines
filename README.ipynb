{
 "cells": [
  {
   "cell_type": "markdown",
   "metadata": {},
   "source": [
    "# Using edge devices for CPU-based inference\n",
    "\n",
    "To run this experiment on Chameleon, open a terminal inside the Chameleon Jupyter environment and run\n",
    "\n",
    "    cd ~/work\n",
    "    git clone https://github.com/teaching-on-testbeds/edge-cpu-inference\n",
    "\n",
    "Then, open the notebook inside the `edge-cpu-inference` directory and follow along with the instructions there.\n",
    "\n",
    "> Note: This experiment assumes that you already have a lease for an edge device on CHI@Edge!"
   ],
   "id": "03dc900a-773e-47a2-90d8-586425788081"
  }
 ],
 "nbformat": 4,
 "nbformat_minor": 5,
 "metadata": {}
}
